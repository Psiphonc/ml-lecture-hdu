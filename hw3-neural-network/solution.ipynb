{
 "cells": [
  {
   "cell_type": "code",
   "execution_count": 2,
   "metadata": {},
   "outputs": [],
   "source": [
    "import torch\n",
    "import torch.nn as nn \n",
    "import torchvision\n",
    "import torchvision.transforms as transforms"
   ]
  },
  {
   "cell_type": "code",
   "execution_count": 3,
   "metadata": {},
   "outputs": [],
   "source": [
    "input_size = 784 # 28x28\n",
    "hidden_size = 500 \n",
    "num_classes = 10\n",
    "num_epochs = 30\n",
    "batch_size = 100\n",
    "learning_rate = 0.001 "
   ]
  },
  {
   "cell_type": "markdown",
   "metadata": {},
   "source": [
    "# Import MNIST dataset "
   ]
  },
  {
   "cell_type": "code",
   "execution_count": 4,
   "metadata": {},
   "outputs": [
    {
     "name": "stderr",
     "output_type": "stream",
     "text": [
      "/usr/local/Caskroom/miniconda/base/envs/pytorch/lib/python3.6/site-packages/torchvision/datasets/mnist.py:498: UserWarning: The given NumPy array is not writeable, and PyTorch does not support non-writeable tensors. This means you can write to the underlying (supposedly non-writeable) NumPy array using the tensor. You may want to copy the array to protect its data or make it writeable before converting it to a tensor. This type of warning will be suppressed for the rest of this program. (Triggered internally at  /Users/distiller/project/conda/conda-bld/pytorch_1623459046073/work/torch/csrc/utils/tensor_numpy.cpp:180.)\n",
      "  return torch.from_numpy(parsed.astype(m[2], copy=False)).view(*s)\n"
     ]
    }
   ],
   "source": [
    "train_dataset = torchvision.datasets.MNIST(root='./data', \n",
    "                                          train=True, \n",
    "                                      transform=transforms.ToTensor(),  \n",
    "                                          download=True)\n",
    "test_dataset = torchvision.datasets.MNIST(root='./data', \n",
    "                                          train=False, \n",
    "                                          transform=transforms.ToTensor()) "
   ]
  },
  {
   "cell_type": "markdown",
   "metadata": {},
   "source": [
    "## Data loader"
   ]
  },
  {
   "cell_type": "code",
   "execution_count": 5,
   "metadata": {},
   "outputs": [],
   "source": [
    "train_loader = torch.utils.data.DataLoader(dataset=train_dataset, \n",
    "                                          batch_size=batch_size, \n",
    "                                          shuffle=True)\n",
    "test_loader = torch.utils.data.DataLoader(dataset=test_dataset, \n",
    "                                          batch_size=batch_size, \n",
    "                                          shuffle=False) "
   ]
  },
  {
   "cell_type": "code",
   "execution_count": 12,
   "metadata": {},
   "outputs": [
    {
     "data": {
      "image/png": "[encoded data removed]",
      "text/plain": [
       "<Figure size 432x288 with 6 Axes>"
      ]
     },
     "metadata": {
      "needs_background": "light"
     },
     "output_type": "display_data"
    }
   ],
   "source": [
    "examples = iter(test_loader)\n",
    "example_data, example_targets = examples.next()\n",
    "for i in range(6):\n",
    "    plt.subplot(2,3,i+1)\n",
    "    plt.imshow(example_data[i][0], cmap='gray')\n",
    "plt.show() "
   ]
  },
  {
   "cell_type": "markdown",
   "metadata": {},
   "source": [
    "# Model"
   ]
  },
  {
   "cell_type": "code",
   "execution_count": 6,
   "metadata": {},
   "outputs": [],
   "source": [
    "# Fully connected neural network with one hidden layer\n",
    "class NeuralNet(nn.Module):\n",
    "  def __init__(self):\n",
    "    super(NeuralNet, self).__init__()\n",
    "    self.input_size = input_size\n",
    "    self.linear_relu_stack = nn.Sequential(\n",
    "      nn.Linear(input_size, hidden_size),\n",
    "      nn.ReLU(),\n",
    "      nn.Linear(hidden_size, num_classes),\n",
    "    ) \n",
    "  def forward(self, x):\n",
    "      x = x.reshape(-1, 28*28)\n",
    "      return self.linear_relu_stack(x) "
   ]
  },
  {
   "cell_type": "code",
   "execution_count": 7,
   "metadata": {},
   "outputs": [],
   "source": [
    "model = NeuralNet()"
   ]
  },
  {
   "cell_type": "code",
   "execution_count": 8,
   "metadata": {},
   "outputs": [],
   "source": [
    "# Loss and optimizer\n",
    "criterion = nn.CrossEntropyLoss()\n",
    "optimizer = torch.optim.Adam(model.parameters(), lr=learning_rate)"
   ]
  },
  {
   "cell_type": "markdown",
   "metadata": {},
   "source": [
    "# Train"
   ]
  },
  {
   "cell_type": "code",
   "execution_count": 9,
   "metadata": {},
   "outputs": [
    {
     "name": "stdout",
     "output_type": "stream",
     "text": [
      "Epoch [1/30], Step[600/600], Loss: 0.0908\n",
      "Epoch [2/30], Step[600/600], Loss: 0.1195\n",
      "Epoch [3/30], Step[600/600], Loss: 0.0381\n",
      "Epoch [4/30], Step[600/600], Loss: 0.0250\n",
      "Epoch [5/30], Step[600/600], Loss: 0.0375\n",
      "Epoch [6/30], Step[600/600], Loss: 0.0085\n",
      "Epoch [7/30], Step[600/600], Loss: 0.0173\n",
      "Epoch [8/30], Step[600/600], Loss: 0.0088\n",
      "Epoch [9/30], Step[600/600], Loss: 0.0285\n",
      "Epoch [10/30], Step[600/600], Loss: 0.0030\n",
      "Epoch [11/30], Step[600/600], Loss: 0.0142\n",
      "Epoch [12/30], Step[600/600], Loss: 0.0046\n",
      "Epoch [13/30], Step[600/600], Loss: 0.0100\n",
      "Epoch [14/30], Step[600/600], Loss: 0.0095\n",
      "Epoch [15/30], Step[600/600], Loss: 0.0015\n",
      "Epoch [16/30], Step[600/600], Loss: 0.0006\n",
      "Epoch [17/30], Step[600/600], Loss: 0.0014\n",
      "Epoch [18/30], Step[600/600], Loss: 0.0001\n",
      "Epoch [19/30], Step[600/600], Loss: 0.0007\n",
      "Epoch [20/30], Step[600/600], Loss: 0.0028\n",
      "Epoch [21/30], Step[600/600], Loss: 0.0003\n",
      "Epoch [22/30], Step[600/600], Loss: 0.0076\n",
      "Epoch [23/30], Step[600/600], Loss: 0.0009\n",
      "Epoch [24/30], Step[600/600], Loss: 0.0008\n",
      "Epoch [25/30], Step[600/600], Loss: 0.0009\n",
      "Epoch [26/30], Step[600/600], Loss: 0.0140\n",
      "Epoch [27/30], Step[600/600], Loss: 0.0003\n",
      "Epoch [28/30], Step[600/600], Loss: 0.0035\n",
      "Epoch [29/30], Step[600/600], Loss: 0.0003\n",
      "Epoch [30/30], Step[600/600], Loss: 0.0002\n"
     ]
    }
   ],
   "source": [
    "n_total_steps = len(train_loader)\n",
    "for epoch in range(num_epochs):\n",
    "  for i, (images, labels) in enumerate(train_loader):  \n",
    "    # origin shape: [100, 1, 28, 28]\n",
    "    # resized: [100, 784]\n",
    "    # images = images.reshape(-1, 28*28)\n",
    "    # Forward pass\n",
    "    outputs = model(images)\n",
    "    loss = criterion(outputs, labels)\n",
    "    # Backward and optimize\n",
    "    optimizer.zero_grad()\n",
    "    loss.backward()\n",
    "    optimizer.step() \n",
    "  if (i+1) % 100 == 0:\n",
    "    print (f'Epoch [{epoch+1}/{num_epochs}], Step[{i+1}/{n_total_steps}], Loss: {loss.item():.4f}') "
   ]
  },
  {
   "cell_type": "markdown",
   "metadata": {},
   "source": [
    "# Test"
   ]
  },
  {
   "cell_type": "code",
   "execution_count": 10,
   "metadata": {},
   "outputs": [
    {
     "name": "stdout",
     "output_type": "stream",
     "text": [
      "Accuracy of the network on the 10000 test images: 100.0 %\n",
      "Accuracy of the network on the 10000 test images: 99.0 %\n",
      "Accuracy of the network on the 10000 test images: 99.0 %\n",
      "Accuracy of the network on the 10000 test images: 98.75 %\n",
      "Accuracy of the network on the 10000 test images: 98.2 %\n",
      "Accuracy of the network on the 10000 test images: 98.33333333333333 %\n",
      "Accuracy of the network on the 10000 test images: 98.14285714285714 %\n",
      "Accuracy of the network on the 10000 test images: 98.25 %\n",
      "Accuracy of the network on the 10000 test images: 98.33333333333333 %\n",
      "Accuracy of the network on the 10000 test images: 98.0 %\n",
      "Accuracy of the network on the 10000 test images: 97.9090909090909 %\n",
      "Accuracy of the network on the 10000 test images: 97.83333333333333 %\n",
      "Accuracy of the network on the 10000 test images: 97.6923076923077 %\n",
      "Accuracy of the network on the 10000 test images: 97.5 %\n",
      "Accuracy of the network on the 10000 test images: 97.53333333333333 %\n",
      "Accuracy of the network on the 10000 test images: 97.375 %\n",
      "Accuracy of the network on the 10000 test images: 97.23529411764706 %\n",
      "Accuracy of the network on the 10000 test images: 97.33333333333333 %\n",
      "Accuracy of the network on the 10000 test images: 97.42105263157895 %\n",
      "Accuracy of the network on the 10000 test images: 97.3 %\n",
      "Accuracy of the network on the 10000 test images: 97.23809523809524 %\n",
      "Accuracy of the network on the 10000 test images: 97.13636363636364 %\n",
      "Accuracy of the network on the 10000 test images: 97.08695652173913 %\n",
      "Accuracy of the network on the 10000 test images: 97.08333333333333 %\n",
      "Accuracy of the network on the 10000 test images: 97.04 %\n",
      "Accuracy of the network on the 10000 test images: 97.11538461538461 %\n",
      "Accuracy of the network on the 10000 test images: 97.11111111111111 %\n",
      "Accuracy of the network on the 10000 test images: 97.17857142857143 %\n",
      "Accuracy of the network on the 10000 test images: 97.20689655172414 %\n",
      "Accuracy of the network on the 10000 test images: 97.13333333333334 %\n",
      "Accuracy of the network on the 10000 test images: 97.16129032258064 %\n",
      "Accuracy of the network on the 10000 test images: 97.21875 %\n",
      "Accuracy of the network on the 10000 test images: 97.24242424242425 %\n",
      "Accuracy of the network on the 10000 test images: 97.29411764705883 %\n",
      "Accuracy of the network on the 10000 test images: 97.28571428571429 %\n",
      "Accuracy of the network on the 10000 test images: 97.22222222222223 %\n",
      "Accuracy of the network on the 10000 test images: 97.27027027027027 %\n",
      "Accuracy of the network on the 10000 test images: 97.23684210526316 %\n",
      "Accuracy of the network on the 10000 test images: 97.17948717948718 %\n",
      "Accuracy of the network on the 10000 test images: 97.2 %\n",
      "Accuracy of the network on the 10000 test images: 97.1951219512195 %\n",
      "Accuracy of the network on the 10000 test images: 97.19047619047619 %\n",
      "Accuracy of the network on the 10000 test images: 97.18604651162791 %\n",
      "Accuracy of the network on the 10000 test images: 97.20454545454545 %\n",
      "Accuracy of the network on the 10000 test images: 97.2 %\n",
      "Accuracy of the network on the 10000 test images: 97.23913043478261 %\n",
      "Accuracy of the network on the 10000 test images: 97.29787234042553 %\n",
      "Accuracy of the network on the 10000 test images: 97.29166666666667 %\n",
      "Accuracy of the network on the 10000 test images: 97.24489795918367 %\n",
      "Accuracy of the network on the 10000 test images: 97.26 %\n",
      "Accuracy of the network on the 10000 test images: 97.27450980392157 %\n",
      "Accuracy of the network on the 10000 test images: 97.32692307692308 %\n",
      "Accuracy of the network on the 10000 test images: 97.37735849056604 %\n",
      "Accuracy of the network on the 10000 test images: 97.4074074074074 %\n",
      "Accuracy of the network on the 10000 test images: 97.43636363636364 %\n",
      "Accuracy of the network on the 10000 test images: 97.48214285714286 %\n",
      "Accuracy of the network on the 10000 test images: 97.47368421052632 %\n",
      "Accuracy of the network on the 10000 test images: 97.48275862068965 %\n",
      "Accuracy of the network on the 10000 test images: 97.52542372881356 %\n",
      "Accuracy of the network on the 10000 test images: 97.48333333333333 %\n",
      "Accuracy of the network on the 10000 test images: 97.44262295081967 %\n",
      "Accuracy of the network on the 10000 test images: 97.48387096774194 %\n",
      "Accuracy of the network on the 10000 test images: 97.52380952380952 %\n",
      "Accuracy of the network on the 10000 test images: 97.5625 %\n",
      "Accuracy of the network on the 10000 test images: 97.6 %\n",
      "Accuracy of the network on the 10000 test images: 97.54545454545455 %\n",
      "Accuracy of the network on the 10000 test images: 97.53731343283582 %\n",
      "Accuracy of the network on the 10000 test images: 97.54411764705883 %\n",
      "Accuracy of the network on the 10000 test images: 97.56521739130434 %\n",
      "Accuracy of the network on the 10000 test images: 97.6 %\n",
      "Accuracy of the network on the 10000 test images: 97.63380281690141 %\n",
      "Accuracy of the network on the 10000 test images: 97.66666666666667 %\n",
      "Accuracy of the network on the 10000 test images: 97.6986301369863 %\n",
      "Accuracy of the network on the 10000 test images: 97.72972972972973 %\n",
      "Accuracy of the network on the 10000 test images: 97.76 %\n",
      "Accuracy of the network on the 10000 test images: 97.78947368421052 %\n",
      "Accuracy of the network on the 10000 test images: 97.81818181818181 %\n",
      "Accuracy of the network on the 10000 test images: 97.84615384615384 %\n",
      "Accuracy of the network on the 10000 test images: 97.86075949367088 %\n",
      "Accuracy of the network on the 10000 test images: 97.8625 %\n",
      "Accuracy of the network on the 10000 test images: 97.8641975308642 %\n",
      "Accuracy of the network on the 10000 test images: 97.89024390243902 %\n",
      "Accuracy of the network on the 10000 test images: 97.90361445783132 %\n",
      "Accuracy of the network on the 10000 test images: 97.92857142857143 %\n",
      "Accuracy of the network on the 10000 test images: 97.95294117647059 %\n",
      "Accuracy of the network on the 10000 test images: 97.95348837209302 %\n",
      "Accuracy of the network on the 10000 test images: 97.97701149425288 %\n",
      "Accuracy of the network on the 10000 test images: 98.0 %\n",
      "Accuracy of the network on the 10000 test images: 98.02247191011236 %\n",
      "Accuracy of the network on the 10000 test images: 98.04444444444445 %\n",
      "Accuracy of the network on the 10000 test images: 98.02197802197803 %\n",
      "Accuracy of the network on the 10000 test images: 98.04347826086956 %\n",
      "Accuracy of the network on the 10000 test images: 98.05376344086021 %\n",
      "Accuracy of the network on the 10000 test images: 98.07446808510639 %\n",
      "Accuracy of the network on the 10000 test images: 98.09473684210526 %\n",
      "Accuracy of the network on the 10000 test images: 98.10416666666667 %\n",
      "Accuracy of the network on the 10000 test images: 98.09278350515464 %\n",
      "Accuracy of the network on the 10000 test images: 98.06122448979592 %\n",
      "Accuracy of the network on the 10000 test images: 98.07070707070707 %\n",
      "Accuracy of the network on the 10000 test images: 98.06 %\n"
     ]
    }
   ],
   "source": [
    "with torch.no_grad():\n",
    "  n_correct = 0\n",
    "  n_samples = 0\n",
    "  for images, labels in test_loader:\n",
    "    images = images.reshape(-1, 28*28)\n",
    "    outputs = model(images)\n",
    "    # max returns (value ,index)\n",
    "    _, predicted = torch.max(outputs.data, 1)\n",
    "    n_samples += labels.size(0)\n",
    "    n_correct += (predicted == labels).sum().item() \n",
    "    acc = 100.0 * n_correct / n_samples\n",
    "    print(f'Accuracy of the network on the 10000 test images: {acc} %') "
   ]
  },
  {
   "cell_type": "code",
   "execution_count": 11,
   "metadata": {},
   "outputs": [
    {
     "name": "stdout",
     "output_type": "stream",
     "text": [
      "6\n"
     ]
    }
   ],
   "source": [
    "from PIL import Image\n",
    "img = Image.open('./test.jpg')\n",
    "convert_tensor = transforms.Compose(\n",
    "        [transforms.Grayscale(num_output_channels=1), transforms.ToTensor()]\n",
    "        )\n",
    "img = convert_tensor(img)\n",
    "outputs = model(img.reshape(-1,28*28))\n",
    "_, result = torch.max(outputs,1)\n",
    "print(result.item())"
   ]
  }
 ],
 "metadata": {
  "interpreter": {
   "hash": "bbb69094616c58ff1e69b5a1de829b135036cf6054f2b6833bb7fb330e31d915"
  },
  "kernelspec": {
   "display_name": "Python 3.6.13 64-bit ('pytorch': conda)",
   "name": "python3"
  },
  "language_info": {
   "codemirror_mode": {
    "name": "ipython",
    "version": 3
   },
   "file_extension": ".py",
   "mimetype": "text/x-python",
   "name": "python",
   "nbconvert_exporter": "python",
   "pygments_lexer": "ipython3",
   "version": "3.6.13"
  },
  "orig_nbformat": 4
 },
 "nbformat": 4,
 "nbformat_minor": 2
}
