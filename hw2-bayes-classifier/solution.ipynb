{
 "cells": [
  {
   "cell_type": "markdown",
   "metadata": {},
   "source": [
    "# Description\n",
    "数据集500_Person_Gender_Height_Weight.csv中包含了500份数据，数据的构成如下所示：\n",
    "\n",
    "\n",
    "|  | Gender | Height | Weight\n",
    "|:---:|:---:|:---:|:---:|\n",
    "| Sample1 | Male | 174 | 96 |\n",
    "| Sample2 | Female | 185 | 110 |\n",
    "\n",
    "其中第一列表示性别，第二列表示身高，第三列表示体重，试用贝叶斯分类器构建分类器，根据身高和体重区分样本的性别。\n",
    "\n",
    "## Requirements\n",
    "1. 构造贝叶斯分类器\n",
    "2. 可视化贝叶斯分类器决策面\n",
    "3. 预测身高为180体重为120的样本的性别\n",
    "4. 完成实验报告"
   ]
  },
  {
   "cell_type": "markdown",
   "metadata": {},
   "source": [
    "# Solution\n",
    "## Pre-processing data"
   ]
  },
  {
   "cell_type": "code",
   "execution_count": 112,
   "metadata": {},
   "outputs": [],
   "source": [
    "import numpy as np \n",
    "import pandas as pd\n",
    "import matplotlib.pyplot as plt\n",
    "\n",
    "df_train = pd.read_csv('traindata.csv', sep=',').dropna() # drop nan rows\n",
    "\n",
    "male = df_train.loc[df_train['gender']=='Male'].iloc[:,1:3].to_numpy() # male matrix\n",
    "female = df_train.loc[df_train['gender']=='Female'].iloc[:,1:3].to_numpy() # female matrix\n",
    "\n",
    "n_male = len(male) # number of male saples\n",
    "n_female = len(female) # number of female saples"
   ]
  },
  {
   "cell_type": "markdown",
   "metadata": {},
   "source": [
    "## Visualizing Data"
   ]
  },
  {
   "cell_type": "code",
   "execution_count": 113,
   "metadata": {},
   "outputs": [
    {
     "data": {
      "text/plain": [
       "<matplotlib.collections.PathCollection at 0x7f8dab12cdd8>"
      ]
     },
     "execution_count": 113,
     "metadata": {},
     "output_type": "execute_result"
    },
    {
     "data": {
      "image/png": "[encoded data removed]",
      "text/plain": [
       "<Figure size 432x288 with 1 Axes>"
      ]
     },
     "metadata": {
      "needs_background": "light"
     },
     "output_type": "display_data"
    }
   ],
   "source": [
    "plt.xlabel('Height')\n",
    "plt.ylabel('Weight')\n",
    "plt.scatter(x=male[:,0],y=male[:,1], c={'red':'male'})\n",
    "plt.scatter(x=female[:,0],y=female[:,1],  c={'blue':'Female'})"
   ]
  },
  {
   "cell_type": "markdown",
   "metadata": {},
   "source": [
    "## Calculating mean and variance"
   ]
  },
  {
   "cell_type": "code",
   "execution_count": 114,
   "metadata": {},
   "outputs": [],
   "source": [
    "def calc_param(feature):\n",
    "  height_mean = feature[:,0].mean()\n",
    "  weight_mean = feature[:,1].mean()\n",
    "  cov = np.cov(feature.T)\n",
    "  height_std = np.sqrt(feature[0][0])\n",
    "  weight_std = np.sqrt(feature[1][1])\n",
    "  return height_mean, weight_mean, cov, height_std, weight_std"
   ]
  },
  {
   "cell_type": "code",
   "execution_count": 115,
   "metadata": {},
   "outputs": [],
   "source": [
    "male_height_mean, male_weight_mean, cov_male, male_height_std, male_weight_std = calc_param(male)\n",
    "female_height_mean, female_weight_mean, cov_female, female_height_std, female_weight_std = calc_param(female)"
   ]
  },
  {
   "cell_type": "markdown",
   "metadata": {},
   "source": [
    "## Bayes Estimation"
   ]
  },
  {
   "cell_type": "code",
   "execution_count": 116,
   "metadata": {},
   "outputs": [],
   "source": [
    "fitted_male_height_mean =  (1 / (n_male + male_height_std ** 2)) * (male[:,0].sum())\n",
    "fitted_female_height_mean =  (1 / (n_female + female_height_std ** 2)) * (female[:,0].sum())\n",
    "fitted_male_weight_mean =  (1 / (n_male + male_weight_std ** 2)) * (male[:,1].sum())\n",
    "fitted_female_weight_mean =  (1 / (n_female + female_weight_std ** 2)) * (female[:,1].sum())"
   ]
  },
  {
   "cell_type": "code",
   "execution_count": 117,
   "metadata": {},
   "outputs": [],
   "source": [
    "import math\n",
    "def predict(x, mean_male, mean_female, sig_male, sig_female, P_male, P_famale):\n",
    "  return 0.5 * (np.dot(np.dot((x-mean_male).T,np.linalg.inv(sig_male)), (x-mean_male))-\\\n",
    "        np.dot(np.dot((x-mean_female).T,np.linalg.inv(sig_female)), (x-mean_female))) +\\\n",
    "        0.5 * math.log(np.linalg.det(sig_male)/np.linalg.det(sig_female)) - math.log(P_male/P_famale)"
   ]
  },
  {
   "cell_type": "code",
   "execution_count": 118,
   "metadata": {},
   "outputs": [
    {
     "data": {
      "text/plain": [
       "<matplotlib.legend.Legend at 0x7f8dab1717b8>"
      ]
     },
     "execution_count": 118,
     "metadata": {},
     "output_type": "execute_result"
    },
    {
     "data": {
      "image/png": "[encoded data removed]",
      "text/plain": [
       "<Figure size 432x288 with 1 Axes>"
      ]
     },
     "metadata": {
      "needs_background": "light"
     },
     "output_type": "display_data"
    }
   ],
   "source": [
    "prior_male = len(male)/(len(male) + len(female))\n",
    "prior_female = 1 - prior_male\n",
    "mean_male = np.array([male_height_mean, male_weight_mean]).reshape(-1,1)\n",
    "mean_female = np.array([female_height_mean, female_weight_mean]).reshape(-1,1)\n",
    "\n",
    "sample_height = np.linspace(150,200,50) # 构建50*50的一个待检测区域\n",
    "sample_weight = np.linspace(40,100,50)\n",
    "\n",
    "sample = np.zeros((50, 50))\n",
    "\n",
    "for i in range(50):\n",
    "  for j in range(50):\n",
    "    x = np.array([sample_height[i],sample_weight[j]]).reshape(-1,1)\n",
    "    sample[i,j] = predict(x,mean_male,mean_female,cov_male,cov_female,prior_male,prior_female)\n",
    "\n",
    "plt.contour(sample_height, sample_weight, sample, 0, colors = 'green',linewidths=2)\n",
    "# 画待区分的点\n",
    "plt.xlabel('Height')\n",
    "plt.ylabel('Weight')\n",
    "plt.scatter(x=male[:,0],y=male[:,1], c={'red':'Male'})\n",
    "plt.scatter(x=female[:,0],y=female[:,1],  c={'blue':'Female'})\n",
    "plt.legend(['Male','Female'])"
   ]
  }
 ],
 "metadata": {
  "interpreter": {
   "hash": "bbb69094616c58ff1e69b5a1de829b135036cf6054f2b6833bb7fb330e31d915"
  },
  "kernelspec": {
   "display_name": "Python 3.6.13 64-bit ('pytorch': conda)",
   "name": "python3"
  },
  "language_info": {
   "codemirror_mode": {
    "name": "ipython",
    "version": 3
   },
   "file_extension": ".py",
   "mimetype": "text/x-python",
   "name": "python",
   "nbconvert_exporter": "python",
   "pygments_lexer": "ipython3",
   "version": "3.6.13"
  },
  "orig_nbformat": 4
 },
 "nbformat": 4,
 "nbformat_minor": 2
}
